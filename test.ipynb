{
 "metadata": {
  "language_info": {
   "codemirror_mode": {
    "name": "ipython",
    "version": 3
   },
   "file_extension": ".py",
   "mimetype": "text/x-python",
   "name": "python",
   "nbconvert_exporter": "python",
   "pygments_lexer": "ipython3",
   "version": "3.6.5-final"
  },
  "orig_nbformat": 2,
  "kernelspec": {
   "name": "python3",
   "display_name": "Python 3",
   "language": "python"
  }
 },
 "nbformat": 4,
 "nbformat_minor": 2,
 "cells": [
  {
   "source": [
    "# 產生資料成CSV\n"
   ],
   "cell_type": "markdown",
   "metadata": {}
  },
  {
   "cell_type": "code",
   "execution_count": 16,
   "metadata": {},
   "outputs": [
    {
     "output_type": "execute_result",
     "data": {
      "text/plain": [
       "'\\n透過 https://www.kaggle.com/carrie1/ecommerce-data\\n產生資料\\n'"
      ]
     },
     "metadata": {},
     "execution_count": 16
    },
    {
     "output_type": "execute_result",
     "data": {
      "text/plain": [
       "       InvoiceNo ItemCode DescriptionCode  Quantity         SellDate  \\\n",
       "0         536365   85123A         1546686         6   12/1/2018 8:26   \n",
       "1         536365    71053         1466048         6   12/1/2018 8:26   \n",
       "2         536365   84406B         4510747         8   12/1/2018 8:26   \n",
       "3         536365   84029G         6497318         6   12/1/2018 8:26   \n",
       "4         536365   84029E         3876120         6   12/1/2018 8:26   \n",
       "...          ...      ...             ...       ...              ...   \n",
       "541904    581587    22613         2299374        12  12/9/2011 12:50   \n",
       "541905    581587    22899         8879580         6  12/9/2011 12:50   \n",
       "541906    581587    23254         3140812         4  12/9/2011 12:50   \n",
       "541907    581587    23255         5796013         4  12/9/2011 12:50   \n",
       "541908    581587    22138         7142903         3  12/9/2011 12:50   \n",
       "\n",
       "        NewTaiwanDollors  CustomerID             District  \n",
       "0                  255.0     17850.0  Zhongzheng District  \n",
       "1                  339.0     17850.0  Zhongzheng District  \n",
       "2                  275.0     17850.0  Zhongzheng District  \n",
       "3                  339.0     17850.0  Zhongzheng District  \n",
       "4                  339.0     17850.0  Zhongzheng District  \n",
       "...                  ...         ...                  ...  \n",
       "541904              85.0     12680.0      Datong District  \n",
       "541905             210.0     12680.0      Datong District  \n",
       "541906             415.0     12680.0      Datong District  \n",
       "541907             415.0     12680.0      Datong District  \n",
       "541908             495.0     12680.0      Datong District  \n",
       "\n",
       "[541909 rows x 8 columns]"
      ],
      "text/html": "<div>\n<style scoped>\n    .dataframe tbody tr th:only-of-type {\n        vertical-align: middle;\n    }\n\n    .dataframe tbody tr th {\n        vertical-align: top;\n    }\n\n    .dataframe thead th {\n        text-align: right;\n    }\n</style>\n<table border=\"1\" class=\"dataframe\">\n  <thead>\n    <tr style=\"text-align: right;\">\n      <th></th>\n      <th>InvoiceNo</th>\n      <th>ItemCode</th>\n      <th>DescriptionCode</th>\n      <th>Quantity</th>\n      <th>SellDate</th>\n      <th>NewTaiwanDollors</th>\n      <th>CustomerID</th>\n      <th>District</th>\n    </tr>\n  </thead>\n  <tbody>\n    <tr>\n      <th>0</th>\n      <td>536365</td>\n      <td>85123A</td>\n      <td>1546686</td>\n      <td>6</td>\n      <td>12/1/2018 8:26</td>\n      <td>255.0</td>\n      <td>17850.0</td>\n      <td>Zhongzheng District</td>\n    </tr>\n    <tr>\n      <th>1</th>\n      <td>536365</td>\n      <td>71053</td>\n      <td>1466048</td>\n      <td>6</td>\n      <td>12/1/2018 8:26</td>\n      <td>339.0</td>\n      <td>17850.0</td>\n      <td>Zhongzheng District</td>\n    </tr>\n    <tr>\n      <th>2</th>\n      <td>536365</td>\n      <td>84406B</td>\n      <td>4510747</td>\n      <td>8</td>\n      <td>12/1/2018 8:26</td>\n      <td>275.0</td>\n      <td>17850.0</td>\n      <td>Zhongzheng District</td>\n    </tr>\n    <tr>\n      <th>3</th>\n      <td>536365</td>\n      <td>84029G</td>\n      <td>6497318</td>\n      <td>6</td>\n      <td>12/1/2018 8:26</td>\n      <td>339.0</td>\n      <td>17850.0</td>\n      <td>Zhongzheng District</td>\n    </tr>\n    <tr>\n      <th>4</th>\n      <td>536365</td>\n      <td>84029E</td>\n      <td>3876120</td>\n      <td>6</td>\n      <td>12/1/2018 8:26</td>\n      <td>339.0</td>\n      <td>17850.0</td>\n      <td>Zhongzheng District</td>\n    </tr>\n    <tr>\n      <th>...</th>\n      <td>...</td>\n      <td>...</td>\n      <td>...</td>\n      <td>...</td>\n      <td>...</td>\n      <td>...</td>\n      <td>...</td>\n      <td>...</td>\n    </tr>\n    <tr>\n      <th>541904</th>\n      <td>581587</td>\n      <td>22613</td>\n      <td>2299374</td>\n      <td>12</td>\n      <td>12/9/2011 12:50</td>\n      <td>85.0</td>\n      <td>12680.0</td>\n      <td>Datong District</td>\n    </tr>\n    <tr>\n      <th>541905</th>\n      <td>581587</td>\n      <td>22899</td>\n      <td>8879580</td>\n      <td>6</td>\n      <td>12/9/2011 12:50</td>\n      <td>210.0</td>\n      <td>12680.0</td>\n      <td>Datong District</td>\n    </tr>\n    <tr>\n      <th>541906</th>\n      <td>581587</td>\n      <td>23254</td>\n      <td>3140812</td>\n      <td>4</td>\n      <td>12/9/2011 12:50</td>\n      <td>415.0</td>\n      <td>12680.0</td>\n      <td>Datong District</td>\n    </tr>\n    <tr>\n      <th>541907</th>\n      <td>581587</td>\n      <td>23255</td>\n      <td>5796013</td>\n      <td>4</td>\n      <td>12/9/2011 12:50</td>\n      <td>415.0</td>\n      <td>12680.0</td>\n      <td>Datong District</td>\n    </tr>\n    <tr>\n      <th>541908</th>\n      <td>581587</td>\n      <td>22138</td>\n      <td>7142903</td>\n      <td>3</td>\n      <td>12/9/2011 12:50</td>\n      <td>495.0</td>\n      <td>12680.0</td>\n      <td>Datong District</td>\n    </tr>\n  </tbody>\n</table>\n<p>541909 rows × 8 columns</p>\n</div>"
     },
     "metadata": {},
     "execution_count": 16
    }
   ],
   "source": [
    "from IPython.core.interactiveshell import InteractiveShell\n",
    "InteractiveShell.ast_node_interactivity = \"all\"\n",
    "\n",
    "import os \n",
    "import random\n",
    "\n",
    "import pandas as pd\n",
    "\n",
    "\"\"\"\n",
    "透過 https://www.kaggle.com/carrie1/ecommerce-data\n",
    "產生資料\n",
    "\"\"\"\n",
    "\n",
    "data = pd.read_csv('./data.csv', encoding='latin1')\n",
    "\n",
    "\n",
    "# 更改 Country:\n",
    "tw_set = [\n",
    "'Zhongzheng District','Wanhua District','Datong District','Zhongshan District','Songshan District','Da an District','Xinyi District',\n",
    "'Neihu District','Nangang District','Shilin District ','Beitou District','Wenshan District','Banqiao District','Xindian District','Zhonghe District','Xinzhuang District','Unspecified','Sanchong District','Tucheng District','Yonghe District','Xizhi District','Luzhou District','Lin District','Tianjin District','Linkou District','Three Gorges District','Wugu District','Yingge District','Taishan District','Bali District','Ruifang District' ,'Shenkeng District','Sanzhi District','Wanli District','Gongliao District','Pinglin District','Wulai District','Pingxi District']\n",
    "data_copy = data.copy()\n",
    "data_copy['only_one'] = 1\n",
    "ori_count = data_copy.groupby('Country')['only_one'].sum()\n",
    "ori_count = ori_count.sort_values(ascending=False)\n",
    "ori_set = ori_count.index.tolist()\n",
    "dictionary = dict(zip(ori_set, tw_set))\n",
    "data['Country'] = data['Country'].map(dictionary) \n",
    "\n",
    " # 更改 UnitPrice：\n",
    "data['UnitPrice'] = data['UnitPrice'] * 100\n",
    "_ = data.sort_values(by=['UnitPrice'],ascending=False)\n",
    "\n",
    "# 更改 Description ：\n",
    "data_copy2 = data_copy.copy() \n",
    "ori_count2 = data_copy2.groupby('Description')['only_one'].sum()\n",
    "ori_count2 = ori_count2.sort_values(ascending=False)\n",
    "des_list = ori_count2.index.tolist()\n",
    "random.seed(10)\n",
    "item_description_number = []\n",
    "for _ in range(len((des_list))):\n",
    "    item_description_number.append(random.randint(1000000, 9999999)) # 產生七位數隨機亂碼\n",
    "item_description_number = [str(int) for int in item_description_number]\n",
    "dictionary_description = dict(zip(des_list, item_description_number))\n",
    "data['Description']= data['Description'].map(dictionary_description) \n",
    "\n",
    "# 更改欄位名稱:\n",
    "columns_rename = {  'InvoiceNo':'InvoiceNo',\n",
    "                    'StockCode':'ItemCode',\t\n",
    "                    'Description':'DescriptionCode',\t\n",
    "                    'Quantity':'Quantity',\n",
    "                    'InvoiceDate':'SellDate',\t\n",
    "                    'UnitPrice'\t:'NewTaiwanDollors',\n",
    "                    'CustomerID':'CustomerID',\n",
    "                    'Country':'District'}\n",
    "data = data.rename(columns= columns_rename) \n",
    "\n",
    "\n",
    "def replace_str(df):\n",
    "    return df.replace('/2010', '/2018')\n",
    "data['SellDate'] = data['SellDate'].apply(replace_str)\n",
    "\n",
    "data.to_csv('./re_data.csv', index=False)\n",
    "\n",
    "data"
   ]
  },
  {
   "source": [
    "# 轉存成 SQLite"
   ],
   "cell_type": "markdown",
   "metadata": {}
  },
  {
   "cell_type": "code",
   "execution_count": 156,
   "metadata": {},
   "outputs": [],
   "source": [
    "import sqlite3\n",
    "conn = sqlite3.connect('ecommerce.db')\n",
    "data.to_sql('ecommerce', conn, if_exists='append', index = False)\n"
   ]
  },
  {
   "source": [
    "# 讀取 db"
   ],
   "cell_type": "markdown",
   "metadata": {}
  },
  {
   "cell_type": "code",
   "execution_count": 157,
   "metadata": {},
   "outputs": [
    {
     "output_type": "execute_result",
     "data": {
      "text/plain": [
       "       InvoiceNo ItemCode DescriptionCode  Quantity         SellDate  \\\n",
       "0         536365   85123A         1546686         6   12/1/2010 8:26   \n",
       "1         536365    71053         1466048         6   12/1/2010 8:26   \n",
       "2         536365   84406B         4510747         8   12/1/2010 8:26   \n",
       "3         536365   84029G         6497318         6   12/1/2010 8:26   \n",
       "4         536365   84029E         3876120         6   12/1/2010 8:26   \n",
       "...          ...      ...             ...       ...              ...   \n",
       "541904    581587    22613         2299374        12  12/9/2011 12:50   \n",
       "541905    581587    22899         8879580         6  12/9/2011 12:50   \n",
       "541906    581587    23254         3140812         4  12/9/2011 12:50   \n",
       "541907    581587    23255         5796013         4  12/9/2011 12:50   \n",
       "541908    581587    22138         7142903         3  12/9/2011 12:50   \n",
       "\n",
       "        NewTaiwanDollors  CustomerID             District  \n",
       "0                  255.0     17850.0  Zhongzheng District  \n",
       "1                  339.0     17850.0  Zhongzheng District  \n",
       "2                  275.0     17850.0  Zhongzheng District  \n",
       "3                  339.0     17850.0  Zhongzheng District  \n",
       "4                  339.0     17850.0  Zhongzheng District  \n",
       "...                  ...         ...                  ...  \n",
       "541904              85.0     12680.0      Datong District  \n",
       "541905             210.0     12680.0      Datong District  \n",
       "541906             415.0     12680.0      Datong District  \n",
       "541907             415.0     12680.0      Datong District  \n",
       "541908             495.0     12680.0      Datong District  \n",
       "\n",
       "[541909 rows x 8 columns]"
      ],
      "text/html": "<div>\n<style scoped>\n    .dataframe tbody tr th:only-of-type {\n        vertical-align: middle;\n    }\n\n    .dataframe tbody tr th {\n        vertical-align: top;\n    }\n\n    .dataframe thead th {\n        text-align: right;\n    }\n</style>\n<table border=\"1\" class=\"dataframe\">\n  <thead>\n    <tr style=\"text-align: right;\">\n      <th></th>\n      <th>InvoiceNo</th>\n      <th>ItemCode</th>\n      <th>DescriptionCode</th>\n      <th>Quantity</th>\n      <th>SellDate</th>\n      <th>NewTaiwanDollors</th>\n      <th>CustomerID</th>\n      <th>District</th>\n    </tr>\n  </thead>\n  <tbody>\n    <tr>\n      <th>0</th>\n      <td>536365</td>\n      <td>85123A</td>\n      <td>1546686</td>\n      <td>6</td>\n      <td>12/1/2010 8:26</td>\n      <td>255.0</td>\n      <td>17850.0</td>\n      <td>Zhongzheng District</td>\n    </tr>\n    <tr>\n      <th>1</th>\n      <td>536365</td>\n      <td>71053</td>\n      <td>1466048</td>\n      <td>6</td>\n      <td>12/1/2010 8:26</td>\n      <td>339.0</td>\n      <td>17850.0</td>\n      <td>Zhongzheng District</td>\n    </tr>\n    <tr>\n      <th>2</th>\n      <td>536365</td>\n      <td>84406B</td>\n      <td>4510747</td>\n      <td>8</td>\n      <td>12/1/2010 8:26</td>\n      <td>275.0</td>\n      <td>17850.0</td>\n      <td>Zhongzheng District</td>\n    </tr>\n    <tr>\n      <th>3</th>\n      <td>536365</td>\n      <td>84029G</td>\n      <td>6497318</td>\n      <td>6</td>\n      <td>12/1/2010 8:26</td>\n      <td>339.0</td>\n      <td>17850.0</td>\n      <td>Zhongzheng District</td>\n    </tr>\n    <tr>\n      <th>4</th>\n      <td>536365</td>\n      <td>84029E</td>\n      <td>3876120</td>\n      <td>6</td>\n      <td>12/1/2010 8:26</td>\n      <td>339.0</td>\n      <td>17850.0</td>\n      <td>Zhongzheng District</td>\n    </tr>\n    <tr>\n      <th>...</th>\n      <td>...</td>\n      <td>...</td>\n      <td>...</td>\n      <td>...</td>\n      <td>...</td>\n      <td>...</td>\n      <td>...</td>\n      <td>...</td>\n    </tr>\n    <tr>\n      <th>541904</th>\n      <td>581587</td>\n      <td>22613</td>\n      <td>2299374</td>\n      <td>12</td>\n      <td>12/9/2011 12:50</td>\n      <td>85.0</td>\n      <td>12680.0</td>\n      <td>Datong District</td>\n    </tr>\n    <tr>\n      <th>541905</th>\n      <td>581587</td>\n      <td>22899</td>\n      <td>8879580</td>\n      <td>6</td>\n      <td>12/9/2011 12:50</td>\n      <td>210.0</td>\n      <td>12680.0</td>\n      <td>Datong District</td>\n    </tr>\n    <tr>\n      <th>541906</th>\n      <td>581587</td>\n      <td>23254</td>\n      <td>3140812</td>\n      <td>4</td>\n      <td>12/9/2011 12:50</td>\n      <td>415.0</td>\n      <td>12680.0</td>\n      <td>Datong District</td>\n    </tr>\n    <tr>\n      <th>541907</th>\n      <td>581587</td>\n      <td>23255</td>\n      <td>5796013</td>\n      <td>4</td>\n      <td>12/9/2011 12:50</td>\n      <td>415.0</td>\n      <td>12680.0</td>\n      <td>Datong District</td>\n    </tr>\n    <tr>\n      <th>541908</th>\n      <td>581587</td>\n      <td>22138</td>\n      <td>7142903</td>\n      <td>3</td>\n      <td>12/9/2011 12:50</td>\n      <td>495.0</td>\n      <td>12680.0</td>\n      <td>Datong District</td>\n    </tr>\n  </tbody>\n</table>\n<p>541909 rows × 8 columns</p>\n</div>"
     },
     "metadata": {},
     "execution_count": 157
    }
   ],
   "source": [
    "import sqlite3\n",
    "\n",
    "\n",
    "# data = pd.read_csv('./data.csv', encoding='latin1')\n",
    "# conn = sqlite3.connect('ecommerce.db')\n",
    "# data.to_sql('ecommerce', conn, if_exists='append', index = False)\n",
    "\n",
    "\n",
    "\n",
    "conn = sqlite3.connect('ecommerce.db')\n",
    "c = conn.cursor()\n",
    "pd.read_sql('''SELECT * FROM ecommerce''', conn)\n"
   ]
  },
  {
   "cell_type": "code",
   "execution_count": 158,
   "metadata": {},
   "outputs": [],
   "source": []
  },
  {
   "cell_type": "code",
   "execution_count": null,
   "metadata": {},
   "outputs": [],
   "source": []
  }
 ]
}